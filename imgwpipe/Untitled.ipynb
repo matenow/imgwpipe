{
 "cells": [
  {
   "cell_type": "code",
   "execution_count": 1,
   "id": "64bc8828",
   "metadata": {},
   "outputs": [
    {
     "data": {
      "text/plain": [
       "150190310"
      ]
     },
     "execution_count": 1,
     "metadata": {},
     "output_type": "execute_result"
    }
   ],
   "source": [
    "import hydro_daily as hydro\n",
    "import core\n",
    "import pandas as pd\n",
    "150190310"
   ]
  },
  {
   "cell_type": "code",
   "execution_count": null,
   "id": "231b0189",
   "metadata": {},
   "outputs": [],
   "source": [
    "hydro_stations = pd.read_csv('hydro_stations.csv')"
   ]
  },
  {
   "cell_type": "code",
   "execution_count": null,
   "id": "52d97a8a",
   "metadata": {},
   "outputs": [],
   "source": [
    "\n",
    "df = hydro.getrange(2015, 2020, stationid=150180240)\n",
    "df"
   ]
  },
  {
   "cell_type": "code",
   "execution_count": null,
   "id": "82227b9d",
   "metadata": {},
   "outputs": [],
   "source": [
    "df"
   ]
  },
  {
   "cell_type": "code",
   "execution_count": null,
   "id": "185450cc",
   "metadata": {},
   "outputs": [],
   "source": [
    "hydro.coords(153150160)[1:3]"
   ]
  },
  {
   "cell_type": "code",
   "execution_count": null,
   "id": "2ddf2a91",
   "metadata": {},
   "outputs": [],
   "source": [
    "meta = pd.read_csv('metadata/hydro_stations.csv', delimiter=',')\n",
    "meta"
   ]
  },
  {
   "cell_type": "code",
   "execution_count": null,
   "id": "1adb3978",
   "metadata": {},
   "outputs": [],
   "source": [
    "dfc = meta.copy()\n",
    "lstrip = 'AĄBCĆDEĘFGHIJKLŁMNŃOÓPQRSŚTUVWXYZŹŻaąbcćdeęfghijklłmnńoópqrsśtuvwxyzźż( '\n",
    "rivlakeid = dfc['river'].astype(str).map(lambda x: x.lstrip(lstrip).rstrip(')'))\n",
    "meta['river'] = meta['river'].astype(str).map(lambda x: x.rstrip(' ()1234567890 '))\n",
    "meta['riverid'] = rivlakeid"
   ]
  },
  {
   "cell_type": "code",
   "execution_count": null,
   "id": "a742c534",
   "metadata": {},
   "outputs": [],
   "source": [
    "meta"
   ]
  },
  {
   "cell_type": "code",
   "execution_count": null,
   "id": "ce3b4b86",
   "metadata": {},
   "outputs": [],
   "source": [
    "meta.columns = ['id', 'X', 'Y', 'name', 'river', 'riverid', 'code']"
   ]
  },
  {
   "cell_type": "code",
   "execution_count": null,
   "id": "e35e51dd",
   "metadata": {},
   "outputs": [],
   "source": [
    "meta = meta.drop(1301, axis=0)"
   ]
  },
  {
   "cell_type": "code",
   "execution_count": null,
   "id": "6323932a",
   "metadata": {},
   "outputs": [],
   "source": [
    "meta['riverid'] = meta['riverid'].astype(int)"
   ]
  },
  {
   "cell_type": "code",
   "execution_count": null,
   "id": "2463e20c",
   "metadata": {},
   "outputs": [],
   "source": [
    "meta.to_csv('edited_hydro_stations.csv', sep=',', index=False)"
   ]
  },
  {
   "cell_type": "code",
   "execution_count": 2,
   "id": "672f738c",
   "metadata": {},
   "outputs": [
    {
     "data": {
      "text/plain": [
       "['Rudawa', 10980]"
      ]
     },
     "execution_count": 2,
     "metadata": {},
     "output_type": "execute_result"
    }
   ],
   "source": [
    "hydro.metadata(150190310, 'riv_or_lake')"
   ]
  },
  {
   "cell_type": "code",
   "execution_count": null,
   "id": "df9f8a69",
   "metadata": {},
   "outputs": [],
   "source": []
  },
  {
   "cell_type": "code",
   "execution_count": null,
   "id": "2ddba9cc",
   "metadata": {},
   "outputs": [],
   "source": []
  }
 ],
 "metadata": {
  "kernelspec": {
   "display_name": "Python 3 (ipykernel)",
   "language": "python",
   "name": "python3"
  },
  "language_info": {
   "codemirror_mode": {
    "name": "ipython",
    "version": 3
   },
   "file_extension": ".py",
   "mimetype": "text/x-python",
   "name": "python",
   "nbconvert_exporter": "python",
   "pygments_lexer": "ipython3",
   "version": "3.9.7"
  }
 },
 "nbformat": 4,
 "nbformat_minor": 5
}
